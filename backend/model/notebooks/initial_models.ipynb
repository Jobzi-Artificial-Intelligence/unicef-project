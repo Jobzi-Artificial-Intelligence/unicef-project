{
 "cells": [
  {
   "cell_type": "markdown",
   "id": "3f5979a9",
   "metadata": {},
   "source": [
    "# Internet availability prediction for Brazilian schools - initial models\n",
    "\n",
    "This notebook presents two initial models for predicting internet availability in Brazilian schools. The first model uses a simple nearest-neighbors approach, while the second one builds a decision tree with several variables, including the presence and number of IT job openings nearby (in a 50km radius of the school)."
   ]
  },
  {
   "cell_type": "code",
   "execution_count": 1,
   "id": "d36d9421",
   "metadata": {},
   "outputs": [],
   "source": [
    "import numpy as np\n",
    "import pandas as pd\n",
    "\n",
    "import sys\n",
    "sys.path.append('../')\n",
    "from src.model_functions import prepare_data, get_cv_folds\n",
    "\n",
    "from sklearn.model_selection import GridSearchCV\n",
    "from sklearn.neighbors import KNeighborsClassifier\n",
    "from sklearn.tree import DecisionTreeClassifier\n",
    "\n",
    "import matplotlib.pyplot as plt"
   ]
  },
  {
   "cell_type": "markdown",
   "id": "24e00bf1",
   "metadata": {},
   "source": [
    "## Input Data"
   ]
  },
  {
   "cell_type": "markdown",
   "id": "9bb0cdd6",
   "metadata": {},
   "source": [
    "The input data file contains information from Brazilian schools obtained via Unicef's GIGA project, as well as a summarization of Jobzi's proprietary information on job openings in Brazil."
   ]
  },
  {
   "cell_type": "code",
   "execution_count": 2,
   "id": "3aadcb1b",
   "metadata": {},
   "outputs": [],
   "source": [
    "# replace this with the folder and file name where the input data can be found\n",
    "folder = '../data'\n",
    "input_name = 'input_data.csv'\n",
    "\n",
    "input_data = pd.read_csv(f'{folder}/{input_name}')"
   ]
  },
  {
   "cell_type": "markdown",
   "id": "56e61115",
   "metadata": {},
   "source": [
    "## A first model: nearest neighbors\n",
    "\n",
    "A simple k-nearest neighbors model based solely on location (using the schools' latitude and longitude) achieves an ~82% accuracy on validation data for predicting if a school in Brazil is connected to the Internet."
   ]
  },
  {
   "cell_type": "code",
   "execution_count": 3,
   "id": "3743f90f",
   "metadata": {},
   "outputs": [],
   "source": [
    "X_train, y_train = prepare_data(input_data, for_train=True)\n",
    "cv_folds = get_cv_folds(X_train, y_train)"
   ]
  },
  {
   "cell_type": "code",
   "execution_count": 4,
   "id": "16c9fc86",
   "metadata": {},
   "outputs": [
    {
     "name": "stdout",
     "output_type": "stream",
     "text": [
      "Fitting 10 folds for each of 6 candidates, totalling 60 fits\n",
      "0.8230462668913165\n"
     ]
    }
   ],
   "source": [
    "knn = KNeighborsClassifier()\n",
    "knn_param_grid = {'n_neighbors': np.arange(1,13,2)}\n",
    "\n",
    "clf_knn = GridSearchCV(estimator=knn,\n",
    "                       param_grid=knn_param_grid,\n",
    "                       cv=cv_folds,\n",
    "                       verbose=1,\n",
    "                       scoring=['accuracy', 'precision_weighted',\n",
    "                                'recall_weighted', 'f1_weighted'],\n",
    "                       refit='accuracy')\n",
    "\n",
    "# model uses only latitude and longitude of schools as variables\n",
    "clf_knn.fit(X_train[['latitude', 'longitude']], y_train)\n",
    "print(clf_knn.best_score_)"
   ]
  },
  {
   "cell_type": "markdown",
   "id": "ff690b6a",
   "metadata": {},
   "source": [
    "## A first improvement: decision tree\n",
    "\n",
    "A more sophisticated decision tree model, using all variables from `input_data` (including data on the number and existence of job openings near the schools), achieves an ~86% accuracy on the validation data. "
   ]
  },
  {
   "cell_type": "code",
   "execution_count": 5,
   "id": "a130c137",
   "metadata": {},
   "outputs": [
    {
     "name": "stdout",
     "output_type": "stream",
     "text": [
      "Fitting 10 folds for each of 6 candidates, totalling 60 fits\n",
      "0.8559787065426928\n"
     ]
    }
   ],
   "source": [
    "tree = DecisionTreeClassifier()\n",
    "tree_param_grid = {'max_depth': [1,2,4,8,16,32]}\n",
    "\n",
    "clf_tree = GridSearchCV(estimator=tree,\n",
    "                       param_grid=tree_param_grid,\n",
    "                       cv=cv_folds,\n",
    "                       verbose=1,\n",
    "                       scoring=['accuracy', 'precision_weighted',\n",
    "                                'recall_weighted', 'f1_weighted'],\n",
    "                       refit='accuracy')\n",
    "\n",
    "# model uses all available variables\n",
    "clf_tree.fit(X_train, y_train)\n",
    "print(clf_tree.best_score_)"
   ]
  },
  {
   "cell_type": "markdown",
   "id": "8e175e1c",
   "metadata": {},
   "source": [
    "### Comparing the results\n",
    "\n",
    "Below we compare the accuracy results for all models tested across the same 10 validation sets. We can see that the best model is a decision tree with a maximum depth of 8."
   ]
  },
  {
   "cell_type": "code",
   "execution_count": 6,
   "id": "ed93e5a5",
   "metadata": {},
   "outputs": [
    {
     "data": {
      "image/png": "[encoded data removed]",
      "text/plain": [
       "<Figure size 1080x288 with 1 Axes>"
      ]
     },
     "metadata": {
      "needs_background": "light"
     },
     "output_type": "display_data"
    }
   ],
   "source": [
    "tree_results = pd.DataFrame(clf_tree.cv_results_, \n",
    "                            index=tree_param_grid['max_depth'])\n",
    "tree_results.index = 'Tree (max_depth = ' + tree_results.index.astype(str) + ')'\n",
    "\n",
    "knn_results = pd.DataFrame(clf_knn.cv_results_, \n",
    "                           index=knn_param_grid['n_neighbors'])\n",
    "knn_results.index = 'KNN (n_neighbors = ' + knn_results.index.astype(str) + ')'\n",
    "\n",
    "acc_cols = [col for col in tree_results.columns \n",
    "            if ('split' in col) and ('_accuracy' in col)]\n",
    "\n",
    "fig, ax = plt.subplots(figsize=[15,4])\n",
    "pd.concat([knn_results[acc_cols], \n",
    "           tree_results[acc_cols]]).T.plot(kind='box', ax=ax)\n",
    "plt.xticks(rotation=90);\n",
    "ax.axvline(6.5, linestyle='--');\n",
    "plt.ylabel('Accuracy score')\n",
    "plt.xlabel('Model');"
   ]
  },
  {
   "cell_type": "markdown",
   "id": "d38e638f",
   "metadata": {},
   "source": [
    "## Predicting results for all schools\n",
    "\n",
    "Below we predict the internet availability status of all schools in our dataset, including the ~36k schools for which there was no information regarding internet availability."
   ]
  },
  {
   "cell_type": "code",
   "execution_count": 7,
   "id": "ba2cefe0",
   "metadata": {},
   "outputs": [],
   "source": [
    "X, _ = prepare_data(input_data, for_train=False)\n",
    "input_data['internet_availability_prediction'] = clf_tree.best_estimator_.predict(X).astype(bool)"
   ]
  },
  {
   "cell_type": "code",
   "execution_count": 8,
   "id": "9f3d1abf",
   "metadata": {},
   "outputs": [],
   "source": [
    "# change here the location and name of the output file with predictions\n",
    "output_folder = '../../../frontend/src/assets'\n",
    "output_name = 'schools_dataset.csv'\n",
    "\n",
    "cols_to_output = ['school_name', \n",
    "                  'latitude', \n",
    "                  'longitude', \n",
    "                  'dq_score', \n",
    "                  'student_count',\n",
    "                  'school_type', \n",
    "                  'school_region', \n",
    "                  'internet_availability',\n",
    "                  'internet_speed_Mbps', \n",
    "                  'city',\n",
    "                  'state',\n",
    "                  'municipality', \n",
    "                  'region',\n",
    "                  'state_district', \n",
    "                  'postcode',\n",
    "                  'it_jobs_below_50_km', \n",
    "                  'has_jobs_below_50_km',\n",
    "                  'internet_availability_prediction']\n",
    "\n",
    "input_data[cols_to_output].to_csv(f'{output_folder}/{output_name}', index=False)"
   ]
  }
 ],
 "metadata": {
  "kernelspec": {
   "display_name": "Python 3",
   "language": "python",
   "name": "python3"
  },
  "language_info": {
   "codemirror_mode": {
    "name": "ipython",
    "version": 3
   },
   "file_extension": ".py",
   "mimetype": "text/x-python",
   "name": "python",
   "nbconvert_exporter": "python",
   "pygments_lexer": "ipython3",
   "version": "3.8.5"
  }
 },
 "nbformat": 4,
 "nbformat_minor": 5
}
